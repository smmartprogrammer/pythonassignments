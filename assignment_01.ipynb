{
 "cells": [
  {
   "cell_type": "markdown",
   "metadata": {},
   "source": [
    "#Part -1 Python Basics (Variables)"
   ]
  },
  {
   "cell_type": "code",
   "execution_count": 1,
   "metadata": {},
   "outputs": [
    {
     "name": "stdout",
     "output_type": "stream",
     "text": [
      "Name: Partab Raj\n",
      "Father's Name:  Laljee\n",
      "Date of Birth: 09/08/1986\n"
     ]
    }
   ],
   "source": [
    "#Print Your Name with your Father name and Date of birth using suitable escape sequence charactor\n",
    "\n",
    "print(\"Name: Partab Raj\\nFather's Name:  Laljee\\nDate of Birth: 09/08/1986\")"
   ]
  },
  {
   "cell_type": "code",
   "execution_count": 2,
   "metadata": {},
   "outputs": [
    {
     "name": "stdout",
     "output_type": "stream",
     "text": [
      "My Short BIO\n",
      "Name : Partab Raj\n",
      "Age : 38\n",
      "Address : Garden West, Karachi\n",
      "Profession : Cloud Data Engineer\n"
     ]
    }
   ],
   "source": [
    "# Write your small bio using variables and print it using print function\n",
    "\n",
    "Name, Age = \"Partab Raj\", 38\n",
    "Address = \"Garden West, Karachi\"\n",
    "Profession = \"Cloud Data Engineer\"\n",
    "print(f\"My Short BIO\\nName : {Name}\\nAge : {Age}\\nAddress : {Address}\\nProfession : {Profession}\")"
   ]
  },
  {
   "cell_type": "code",
   "execution_count": null,
   "metadata": {},
   "outputs": [
    {
     "name": "stdout",
     "output_type": "stream",
     "text": [
      "Airthematic Operators Results :\n",
      "Addition Result: 30 \n",
      "Substration Result: -10 \n",
      "Multiplication Result: 200 \n",
      "Division Result: 0.5 \n",
      "Floor Division Result: 0 \n",
      "Modulus Result: 10 \n",
      "Exponential Result: 100000000000000000000 \n",
      "Comparison Operators Results :\n",
      "Equal Result: False \n",
      "Not Equal Result: True \n",
      "Greater Than Result: True \n",
      "Lower Than Result: False \n",
      "Greater Than Equal to Result: True \n",
      "Lower Than Equal to Result: False \n",
      "Logical Operators Results :\n",
      "Or Result: True \n",
      "Or Operator Result: True \n",
      "And Operator Result: False \n",
      "And Operator Result: True \n"
     ]
    }
   ],
   "source": [
    "#Write a program in which use all the operators we can use in Python\n",
    "\n",
    "# Airthematic Operators\n",
    "# Addition:\n",
    "\n",
    "a = 10\n",
    "b = 20\n",
    "print(f\"Airthematic Operators Results :\\nAddition Result: {a+b} \")\n",
    "print(f\"Substration Result: {a-b} \")\n",
    "print(f\"Multiplication Result: {a*b} \")\n",
    "print(f\"Division Result: {a/b} \")\n",
    "print(f\"Floor Division Result: {a//b} \")\n",
    "print(f\"Modulus Result: {a%b} \")\n",
    "print(f\"Exponential Result: {a**b} \")\n",
    "\n",
    "# Comparison Operators=======\n",
    "c = 15\n",
    "d = 4\n",
    "print(f\"Comparison Operators Results :\\nEqual Result: {c==d} \")\n",
    "print(f\"Not Equal Result: {c!=d} \")\n",
    "print(f\"Greater Than Result: {c>d} \")\n",
    "print(f\"Lower Than Result: {c<d} \")\n",
    "print(f\"Greater Than Equal to Result: {c>=d} \")\n",
    "print(f\"Lower Than Equal to Result: {c<=d} \")\n",
    "\n",
    "## Logical Operators\n",
    "print(f\"Logical Operators Results :\\nOr Result: {True or False} \")\n",
    "print(f\"Or Operator Result: {True or True} \")\n",
    "print(f\"And Operator Result: {True and False} \")\n",
    "print(f\"And Operator Result: {True and True} \")\n"
   ]
  },
  {
   "cell_type": "code",
   "execution_count": 7,
   "metadata": {},
   "outputs": [
    {
     "name": "stdout",
     "output_type": "stream",
     "text": [
      "Total Obtain Marks : 265\n",
      "Total Marks : 300\n",
      "Percentage : 88.33% \n"
     ]
    }
   ],
   "source": [
    "#Completes the following steps of small task:\n",
    "# Mention Marks of English , Islamiat and Maths out of 100 in 3 different variables\n",
    "# Mention Variable of Total Marks and assign 300 to it\n",
    "# Calculate Percentage\n",
    "\n",
    "marks_english = 70\n",
    "marks_maths = 95\n",
    "marks_islamiyat = 100\n",
    "total_marks = 300\n",
    "obtain_marks = (marks_english+marks_maths+marks_islamiyat)\n",
    "\n",
    "percentage = (obtain_marks/total_marks)*100\n",
    "print(f\"Total Obtain Marks : {obtain_marks}\\nTotal Marks : {total_marks}\\nPercentage : {percentage:.2f}% \")\n"
   ]
  },
  {
   "cell_type": "code",
   "execution_count": 23,
   "metadata": {},
   "outputs": [
    {
     "name": "stdout",
     "output_type": "stream",
     "text": [
      "congratulations! you are eligilble for 5% bonus : 2500.0\n"
     ]
    }
   ],
   "source": [
    "#Part -2 Python Basics (Conditional Statements)\n",
    "# A company decided to give bonus of 5% to employee if his/her year of service is more than 5 years. Ask user for their salary and year of service and print the net bonus amount.\n",
    "\n",
    "\n",
    "salary = float(input(\"Enter your Salary ??\"))\n",
    "services_years = int(input(\"enter your services years ??\"))\n",
    "\n",
    "if services_years > 5:\n",
    "    bonus = salary * .05\n",
    "    print(f\"congratulations! you are eligilble for 5% bonus : {bonus}\")\n",
    "else:\n",
    "    print(f\"sorry you are not eligbile for bonus\")"
   ]
  },
  {
   "cell_type": "code",
   "execution_count": null,
   "metadata": {},
   "outputs": [
    {
     "name": "stdout",
     "output_type": "stream",
     "text": [
      "congratulation! you are eligible for vote.\n"
     ]
    }
   ],
   "source": [
    "#Write a program to check whether a person is eligible for voting or not.\n",
    "#(accept age from user) if age is greater than 17 eligible otherwise not eligible\n",
    "\n",
    "\n",
    "user_age = int(input(\"please enter your age ??\"))\n",
    "\n",
    "if user_age > 17 :\n",
    "    print(f\"congratulation! you are eligible for vote.\")\n",
    "else:\n",
    "    print(f\"sorry! you are not eligible\")\n"
   ]
  },
  {
   "cell_type": "code",
   "execution_count": 31,
   "metadata": {},
   "outputs": [
    {
     "name": "stdout",
     "output_type": "stream",
     "text": [
      "the number you enter 16 is even\n"
     ]
    }
   ],
   "source": [
    "#Write a program to check whether a number entered by user is even or odd.\n",
    "\n",
    "even_number = int(input(\"please enter the number ??\"))\n",
    "\n",
    "if even_number % 2 == 0:\n",
    "    print(f\"the number you enter {even_number} is even\")\n",
    "else:\n",
    "    print(f\"the number you enter {even_number} is odd\")\n",
    "\n"
   ]
  },
  {
   "cell_type": "code",
   "execution_count": 34,
   "metadata": {},
   "outputs": [
    {
     "name": "stdout",
     "output_type": "stream",
     "text": [
      "the number you enter 25 is not divisible\n"
     ]
    }
   ],
   "source": [
    "#Write a program to check whether a number is divisible by 7 or not. Show Answer\n",
    "\n",
    "num = int(input(\"please enter the number ??\"))\n",
    "\n",
    "if num % 7 == 0:\n",
    "    print(f\"the number you enter {num} is divisible\")\n",
    "else:\n",
    "    print(f\"the number you enter {num} is not divisible\")"
   ]
  },
  {
   "cell_type": "code",
   "execution_count": 38,
   "metadata": {},
   "outputs": [
    {
     "name": "stdout",
     "output_type": "stream",
     "text": [
      "by\n"
     ]
    }
   ],
   "source": [
    "#Write a program to display \"Hello\" if a number entered by user is a multiple of five , otherwise print \"Bye\".\n",
    "num = int(input(\"please enter number ??\"))\n",
    "\n",
    "if num % 5 == 0:\n",
    "    print(\"hello\")\n",
    "else:\n",
    "    print(\"by\")"
   ]
  },
  {
   "cell_type": "code",
   "execution_count": 42,
   "metadata": {},
   "outputs": [
    {
     "name": "stdout",
     "output_type": "stream",
     "text": [
      "the last digit of 2255 is 5\n"
     ]
    }
   ],
   "source": [
    "#Write a program to display the last digit of a number.\n",
    "num = int(input(\"please enter the number ??\"))\n",
    "\n",
    "last_digit = num % 10\n",
    "print(f\"the last digit of {num} is {last_digit}\")"
   ]
  },
  {
   "cell_type": "code",
   "execution_count": 45,
   "metadata": {},
   "outputs": [
    {
     "name": "stdout",
     "output_type": "stream",
     "text": [
      "it is a rectangle\n"
     ]
    }
   ],
   "source": [
    "#Take values of length and breadth of a rectangle from user and print if it is square or rectangle.\n",
    "lenght = float(input(\"please enter lenght\"))\n",
    "breadth = float(input(\"please enter breadth\"))\n",
    "\n",
    "if lenght == breadth:\n",
    "    print(\"it is a square\")\n",
    "else:\n",
    "    print(\"it is a rectangle\")\n"
   ]
  },
  {
   "cell_type": "code",
   "execution_count": 47,
   "metadata": {},
   "outputs": [
    {
     "name": "stdout",
     "output_type": "stream",
     "text": [
      "value one 20 is not greater than value two 25\n"
     ]
    }
   ],
   "source": [
    "#Take two int values from user and print greatest among them.\n",
    "value_one = int(input(\"please enter value\"))\n",
    "value_two = int(input(\"please enter value\"))\n",
    "\n",
    "if value_one > value_two:\n",
    "    print(f\"value one {value_one} is greater than value two {value_two}\")\n",
    "else:\n",
    "    print(f\"value one {value_one} is not greater than value two {value_two}\")\n"
   ]
  },
  {
   "cell_type": "code",
   "execution_count": 50,
   "metadata": {},
   "outputs": [
    {
     "name": "stdout",
     "output_type": "stream",
     "text": [
      "total cost to be paid : 1000.00\n"
     ]
    }
   ],
   "source": [
    "#A shop will give discount of 10% if the cost of purchased quantity is more than 1000. Ask user for quantity Suppose, one unit will cost 100. Judge and print total cost for user.\n",
    "unit_price = 100\n",
    "quantity = int(input(\"please enter the quantity\"))\n",
    "\n",
    "total_cost = unit_price*quantity\n",
    "\n",
    "if total_cost > 1000:\n",
    "    discount = total_cost *.01\n",
    "    total_cost -= discount\n",
    "    print(f\"you received 10% discount of {discount:.2f}!\")\n",
    "print(f\"total cost to be paid : {total_cost:.2f}\")\n"
   ]
  },
  {
   "cell_type": "code",
   "execution_count": 54,
   "metadata": {},
   "outputs": [
    {
     "name": "stdout",
     "output_type": "stream",
     "text": [
      "Grade A\n"
     ]
    }
   ],
   "source": [
    "#A school has following rules for grading system:\n",
    "# a. Below 25 - F\n",
    "\n",
    "# b. 25 to 45 - E\n",
    "\n",
    "# c. 45 to 50 - D\n",
    "\n",
    "# d. 50 to 60 - C\n",
    "\n",
    "# e. 60 to 80 - B\n",
    "\n",
    "# f. Above 80 - A\n",
    "\n",
    "# Ask user to enter marks and print the corresponding grade.\n",
    "\n",
    "marks = int(input(\"Enter your Marks:\"))\n",
    "\n",
    "if marks > 80 and marks <= 100 :\n",
    "      print(\"Grade A\")\n",
    "\n",
    "elif marks > 60 and marks <= 80:\n",
    "      print(\"Grade B\")\n",
    "\n",
    "elif marks > 50 and marks <= 60:\n",
    "      print(\"Grade c\")\n",
    "elif marks > 45 and marks <= 50:\n",
    "      print(\"Grade d\")\n",
    "elif marks > 25 and marks <= 45:\n",
    "      print(\"Grade e\")\n",
    "elif marks > 0 and marks <= 25:\n",
    "      print(\"Grade f\")\n",
    "else:\n",
    "      print(\"Invalid input\")"
   ]
  },
  {
   "cell_type": "code",
   "execution_count": 55,
   "metadata": {},
   "outputs": [
    {
     "name": "stdout",
     "output_type": "stream",
     "text": [
      "Attendance Percentage: 96.67%\n",
      "The student is allowed to sit in the exam.\n"
     ]
    }
   ],
   "source": [
    "#14)A student will not be allowed to sit in exam if his/her attendence is less than 75%.\n",
    "\n",
    "# Take following input from user\n",
    "\n",
    "# Number of classes held\n",
    "\n",
    "# Number of classes attended.\n",
    "\n",
    "# And print\n",
    "\n",
    "# percentage of class attended\n",
    "\n",
    "# Is student is allowed to sit in exam or not.\n",
    "\n",
    "# Accept user input\n",
    "classes_held = int(input(\"Enter the total number of classes held: \"))\n",
    "classes_attended = int(input(\"Enter the number of classes attended: \"))\n",
    "\n",
    "# Calculate attendance percentage\n",
    "attendance_percentage = (classes_attended / classes_held) * 100\n",
    "\n",
    "# Display attendance percentage\n",
    "print(f\"Attendance Percentage: {attendance_percentage:.2f}%\")\n",
    "\n",
    "# Check if student is allowed to sit in the exam\n",
    "if attendance_percentage >= 75:\n",
    "    print(\"The student is allowed to sit in the exam.\")\n",
    "else:\n",
    "    print(\"The student is NOT allowed to sit in the exam.\")\n",
    "\n",
    "\n"
   ]
  },
  {
   "cell_type": "code",
   "execution_count": 57,
   "metadata": {},
   "outputs": [
    {
     "name": "stdout",
     "output_type": "stream",
     "text": [
      "Attendance Percentage: 50.00%\n",
      "The student is allowed to sit in the exam due to medical cause.\n"
     ]
    }
   ],
   "source": [
    "#Modify the above question to allow student to sit if he/she has medical cause. Ask user if he/she has medical cause or not ( 'Y' or 'N' ) and print accordingly.\n",
    "\n",
    "# Accept user input\n",
    "classes_held = int(input(\"Enter the total number of classes held: \"))\n",
    "classes_attended = int(input(\"Enter the number of classes attended: \"))\n",
    "\n",
    "# Calculate attendance percentage\n",
    "attendance_percentage = (classes_attended / classes_held) * 100\n",
    "\n",
    "# Display attendance percentage\n",
    "print(f\"Attendance Percentage: {attendance_percentage:.2f}%\")\n",
    "\n",
    "# Check if attendance is less than 75%\n",
    "if attendance_percentage < 75:\n",
    "    # Ask if the student has a medical cause\n",
    "    medical_cause = input(\"Do you have a medical cause? (Y/N): \").strip().upper()\n",
    "\n",
    "    if medical_cause == 'Y':\n",
    "        print(\"The student is allowed to sit in the exam due to medical cause.\")\n",
    "    else:\n",
    "        print(\"The student is NOT allowed to sit in the exam.\")\n",
    "else:\n",
    "    print(\"The student is allowed to sit in the exam.\")\n"
   ]
  },
  {
   "cell_type": "code",
   "execution_count": 60,
   "metadata": {},
   "outputs": [
    {
     "name": "stdout",
     "output_type": "stream",
     "text": [
      "2025 is NOT a Leap Year.\n"
     ]
    }
   ],
   "source": [
    "#Write a program to check if a year is leap year or not.\n",
    "# If a year is divisible by 4 then it is leap year but if the year is century year like 2000, 1900, 2100 then it must be divisible by 400.\n",
    "\n",
    "# Accept user input\n",
    "year = int(input(\"Enter a year: \"))\n",
    "\n",
    "# Check if it's a leap year\n",
    "if (year % 4 == 0 and year % 100 != 0) or (year % 400 == 0):\n",
    "    print(f\"{year} is a Leap Year.\")\n",
    "else:\n",
    "    print(f\"{year} is NOT a Leap Year.\")\n"
   ]
  },
  {
   "cell_type": "code",
   "execution_count": 62,
   "metadata": {},
   "outputs": [
    {
     "name": "stdout",
     "output_type": "stream",
     "text": [
      "You may work anywhere.\n"
     ]
    }
   ],
   "source": [
    "#Ask user to enter age, gender ( M or F ), marital status ( Y or N ) and then using following rules print their place of service.\n",
    "# if employee is female, then she will work only in urban areas.\n",
    "\n",
    "# if employee is a male and age is in between 20 to 40 then he may work in anywhere\n",
    "\n",
    "# if employee is male and age is in between 40 t0 60 then he will work in urban areas only.\n",
    "\n",
    "# And any other input of age should print \"ERROR\"\n",
    "\n",
    "# Accept user inputs\n",
    "\n",
    "age = int(input(\"Enter your age: \"))\n",
    "gender = input(\"Enter your gender (M/F): \").strip().upper()\n",
    "marital_status = input(\"Are you married? (Y/N): \").strip().upper()\n",
    "\n",
    "# Check the conditions for place of service\n",
    "if gender == 'F':\n",
    "    print(\"You will work only in urban areas.\")\n",
    "elif gender == 'M':\n",
    "    if 20 <= age <= 40:\n",
    "        print(\"You may work anywhere.\")\n",
    "    elif 40 <= age <= 60:\n",
    "        print(\"You will work only in urban areas.\")\n",
    "    else:\n",
    "        print(\"ERROR: Invalid age for employment.\")\n",
    "else:\n",
    "    print(\"ERROR: Invalid gender input.\")\n"
   ]
  },
  {
   "cell_type": "code",
   "execution_count": null,
   "metadata": {},
   "outputs": [
    {
     "name": "stdout",
     "output_type": "stream",
     "text": [
      "Total bill amount is Rs. 500\n"
     ]
    }
   ],
   "source": [
    "#Write a program to calculate the electricity bill (accept number of unit from user) according to the following criteria : Unit Price\n",
    "# uptp 100 units no charge Next 200 units Rs 5 per unit After 200 units Rs 10 per unit (For example if input unit is 350 than total bill amount is Rs.3500 (For example if input unit is 97 than total bill amount is Rs.0 (For example if input unit is 150 than total bill amount is Rs.750\n",
    "\n",
    "# Accept user input for number of units consumed\n",
    "units = int(input(\"Enter the number of units consumed: \"))\n",
    "\n",
    "# Initialize total bill amount\n",
    "bill_amount = 0\n",
    "\n",
    "# Calculate the bill based on unit consumption\n",
    "if units <= 100:\n",
    "    bill_amount = 0  # No charge for first 100 units\n",
    "elif units <= 300:\n",
    "    bill_amount = (units - 100) * 5  # Rs. 5 per unit for next 200 units\n",
    "else:\n",
    "    bill_amount = (200 * 5) + ((units - 300) * 10)  # Rs. 5 for 200 units, Rs. 10 beyond 300 units\n",
    "\n",
    "# Display the total bill amount\n",
    "print(f\"Total bill amount is Rs. {bill_amount}\")\n",
    "\n"
   ]
  },
  {
   "cell_type": "code",
   "execution_count": 64,
   "metadata": {},
   "outputs": [
    {
     "name": "stdout",
     "output_type": "stream",
     "text": [
      "The oldest person is 85 years old.\n",
      "The youngest person is 25 years old.\n"
     ]
    }
   ],
   "source": [
    "# Take input of age of 3 people by user and determine oldest and youngest among them.\n",
    "# Accept ages from user\n",
    "age1 = int(input(\"Enter the age of first person: \"))\n",
    "age2 = int(input(\"Enter the age of second person: \"))\n",
    "age3 = int(input(\"Enter the age of third person: \"))\n",
    "\n",
    "# Determine the oldest and youngest\n",
    "oldest = max(age1, age2, age3)\n",
    "youngest = min(age1, age2, age3)\n",
    "\n",
    "# Display results\n",
    "print(f\"The oldest person is {oldest} years old.\")\n",
    "print(f\"The youngest person is {youngest} years old.\")\n"
   ]
  },
  {
   "cell_type": "code",
   "execution_count": null,
   "metadata": {},
   "outputs": [],
   "source": []
  }
 ],
 "metadata": {
  "kernelspec": {
   "display_name": "Python 3",
   "language": "python",
   "name": "python3"
  },
  "language_info": {
   "codemirror_mode": {
    "name": "ipython",
    "version": 3
   },
   "file_extension": ".py",
   "mimetype": "text/x-python",
   "name": "python",
   "nbconvert_exporter": "python",
   "pygments_lexer": "ipython3",
   "version": "3.12.9"
  }
 },
 "nbformat": 4,
 "nbformat_minor": 2
}
