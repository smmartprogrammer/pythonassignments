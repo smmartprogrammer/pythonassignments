{
 "cells": [
  {
   "cell_type": "markdown",
   "metadata": {},
   "source": [
    "# Strings Assignments \n"
   ]
  },
  {
   "cell_type": "code",
   "execution_count": null,
   "metadata": {},
   "outputs": [
    {
     "name": "stdout",
     "output_type": "stream",
     "text": [
      "number of vowels in the strings: 2\n"
     ]
    }
   ],
   "source": [
    "#1. Write a program that accepts a string from user. Your program should count and display number of \n",
    "#vowels in that string.\n",
    "\n",
    "user_string = input(\"please enter the string ??\")\n",
    "\n",
    "vowels = \"aeiouAEIOU\"\n",
    "\n",
    "count = sum(1 for char in user_string if char in vowels)\n",
    "\n",
    "print(f\"number of vowels in the strings: {count}\")\n",
    "\n"
   ]
  },
  {
   "cell_type": "code",
   "execution_count": null,
   "metadata": {},
   "outputs": [
    {
     "name": "stdout",
     "output_type": "stream",
     "text": [
      "In this string: the number of Upper case is 2\n",
      "In this string: the number of lower case is 5\n",
      "In this string: the number of digit case is 0\n",
      "In this string: the number of space is 0\n"
     ]
    }
   ],
   "source": [
    "# 2. Write a program that reads a string from keyboard and display: \n",
    "# * The number of uppercase letters in the string \n",
    "# * The number of lowercase letters in the string \n",
    "# * The number of digits in the string \n",
    "# * The number of whitespace characters in the string  \n",
    "\n",
    "String = input(\"please enter the string\")\n",
    "\n",
    "upercase_num = sum(1 for char in String if char.isupper())\n",
    "lowercase_num = sum(1 for char in String if char.islower())\n",
    "digits_num = sum(1 for char in String if char.isdigit())\n",
    "space_num = sum(1 for char in String if char.isspace())\n",
    "\n",
    "\n",
    "print(f\"In this string: the number of Upper case is {upercase_num}\")\n",
    "print(f\"In this string: the number of lower case is {lowercase_num}\")\n",
    "print(f\"In this string: the number of digit case is {digits_num}\")\n",
    "print(f\"In this string: the number of space is {space_num}\")\n",
    "\n",
    "\n"
   ]
  },
  {
   "cell_type": "code",
   "execution_count": 12,
   "metadata": {},
   "outputs": [
    {
     "name": "stdout",
     "output_type": "stream",
     "text": [
      "new string after swaping : nakistaP \n"
     ]
    }
   ],
   "source": [
    "# 3. Write a Python program that accepts a string from user. Your program should create and display a \n",
    "# new string where the first and last characters have been exchanged.\n",
    "\n",
    "message = input(\"please enter the string\")\n",
    "\n",
    "if len(message) > 1:\n",
    "    new_message = message[-1]+message[1:-1] +message[0]\n",
    "\n",
    "else:\n",
    "    new_message = message\n",
    "\n",
    "print(f\"new string after swaping : {new_message} \") \n",
    "\n"
   ]
  },
  {
   "cell_type": "code",
   "execution_count": 14,
   "metadata": {},
   "outputs": [
    {
     "name": "stdout",
     "output_type": "stream",
     "text": [
      "ijhtanuhgaR\n"
     ]
    }
   ],
   "source": [
    "# 4. Write a Python program that accepts a string from user. Your program should create a new string in \n",
    "# reverse of first string and display it. \n",
    "# For example if the user enters the string 'EXAM' then new string would be 'MAXE' \n",
    "\n",
    "user_input = input(\"please enter a string ??\")\n",
    "\n",
    "reverse_user = user_input[::-1]\n",
    "\n",
    "print(reverse_user)\n"
   ]
  },
  {
   "cell_type": "code",
   "execution_count": 19,
   "metadata": {},
   "outputs": [
    {
     "name": "stdout",
     "output_type": "stream",
     "text": [
      "xamination 2021E\n"
     ]
    }
   ],
   "source": [
    "# 5. Write a Python program that accepts a string from user. Your program should create a new string by \n",
    "# shifting one position to left. \n",
    "# For example if the user enters the string 'examination 2021' then new string would be 'xamination \n",
    "# 2021e'  \n",
    "\n",
    "user_input = input(\"please provide string\")\n",
    "\n",
    "if len(user_input) > 1:\n",
    "    new_string = user_input[1:]+user_input[0]\n",
    "else:\n",
    "    new_string = user_input\n",
    "print(new_string)\n",
    "\n",
    "\n",
    "\n"
   ]
  },
  {
   "cell_type": "code",
   "execution_count": null,
   "metadata": {},
   "outputs": [
    {
     "name": "stdout",
     "output_type": "stream",
     "text": [
      "initials: J.S.R.\n"
     ]
    }
   ],
   "source": [
    "# 6. Write a program that asks the user to input his name and print its initials. Assuming that the user \n",
    "# always types first name, middle name and last name and does not include any unnecessary spaces. \n",
    "# For example, if the user enters Ajay Kumar Garg the program should display A. K. G. \n",
    "# Note:Don't use split() method \n",
    "\n",
    "\n",
    "name = input(\"please enter your full name : \")\n",
    "\n",
    "initials = name[0].upper() + \".\"\n",
    "\n",
    "for i in range(1,len(name)):\n",
    "    if name[i] == \" \":\n",
    "        initials += name[i+1].upper() + \".\"\n",
    "\n",
    "print(\"initials:\",initials)\n",
    "\n"
   ]
  },
  {
   "cell_type": "code",
   "execution_count": null,
   "metadata": {},
   "outputs": [
    {
     "name": "stdout",
     "output_type": "stream",
     "text": [
      "The string is not palindrome\n"
     ]
    }
   ],
   "source": [
    "# 7 A palindrome is a string that reads the same backward as forward. For example, the words dad, \n",
    "# madam and radar are all palindromes. Write a programs that determines whether the string is a \n",
    "# palindrome. \n",
    "# Note: do not use reverse() method  \n",
    "\n",
    "\n",
    "abc = input(\"please enter a word to check weather it is palindrome or not ??\")\n",
    "\n",
    "if abc == abc[::-1]:\n",
    "    print(\"The string is palindrome\")\n",
    "else:\n",
    "    print(\"The string is not palindrome\")\n",
    "\n"
   ]
  },
  {
   "cell_type": "code",
   "execution_count": 1,
   "metadata": {},
   "outputs": [
    {
     "name": "stdout",
     "output_type": "stream",
     "text": [
      "SHIFT\n",
      "HIFTS\n",
      "IFTSH\n",
      "FTSHI\n",
      "TSHIF\n",
      "SHIFT\n"
     ]
    }
   ],
   "source": [
    "# 8. Write a program that display following output: \n",
    "# SHIFT \n",
    "# HIFTS \n",
    "# IFTSH \n",
    "# FTSHI \n",
    "# TSHIF \n",
    "# SHIFT \n",
    "\n",
    "word = \"SHIFT\"\n",
    "\n",
    "for i in range(len(word)):\n",
    "    print(word[i:]+word[:i])\n",
    "\n",
    "print(word)"
   ]
  },
  {
   "cell_type": "code",
   "execution_count": 5,
   "metadata": {},
   "outputs": [
    {
     "name": "stdout",
     "output_type": "stream",
     "text": [
      "password is valid\n"
     ]
    }
   ],
   "source": [
    "# 9. Write a program in python that accepts a string to setup a passwords. Your entered password must \n",
    "# meet the following requirements: \n",
    "# The password must be at least eight characters long. \n",
    "# It must contain at least one uppercase letter. \n",
    "# It must contain at least one lowercase letter. \n",
    "# It must contain at least one numeric digit. \n",
    "# Your program should should perform this validation.  \n",
    "\n",
    "password = (input(\"please enter your password  ???\"))\n",
    "\n",
    "\n",
    "if len(password) < 8:\n",
    "    print(\"The password must be at least eight characters long.\")\n",
    "elif not any(char.isupper() for char in password):\n",
    "    print(\"It must contain at least one uppercase letter.\")\n",
    "elif not any(char.islower() for char in password):\n",
    "    print(\"It must contain at least one lowercase letter.\")\n",
    "elif not any(char.isdigit() for char in password):\n",
    "    print(\"It must contain at least one numeric digit.\")\n",
    "else:\n",
    "    print(\"password is valid\")     "
   ]
  }
 ],
 "metadata": {
  "kernelspec": {
   "display_name": "Python 3",
   "language": "python",
   "name": "python3"
  },
  "language_info": {
   "codemirror_mode": {
    "name": "ipython",
    "version": 3
   },
   "file_extension": ".py",
   "mimetype": "text/x-python",
   "name": "python",
   "nbconvert_exporter": "python",
   "pygments_lexer": "ipython3",
   "version": "3.12.9"
  }
 },
 "nbformat": 4,
 "nbformat_minor": 2
}
