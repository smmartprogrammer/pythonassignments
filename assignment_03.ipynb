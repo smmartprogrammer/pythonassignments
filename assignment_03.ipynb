{
 "cells": [
  {
   "cell_type": "markdown",
   "metadata": {},
   "source": [
    "# Strings Assignments \n"
   ]
  },
  {
   "cell_type": "code",
   "execution_count": 9,
   "metadata": {},
   "outputs": [
    {
     "name": "stdout",
     "output_type": "stream",
     "text": [
      "Number of vowels in the string: 5\n"
     ]
    }
   ],
   "source": [
    "#1. Write a program that accepts a string from user. Your program should count and display number of \n",
    "#vowels in that string.\n",
    "\n",
    "def count_vowels(string):\n",
    "    vowels = \"AEIOUaeiou\"  # Define vowels (both uppercase and lowercase)\n",
    "    count = sum(1 for char in string if char in vowels)  # Count vowels in string\n",
    "    return count\n",
    "\n",
    "# Accept input from user\n",
    "user_input = input(\"Enter a string: \")\n",
    "\n",
    "# Count and display the number of vowels\n",
    "vowel_count = count_vowels(user_input)\n",
    "print(f\"Number of vowels in the string: {vowel_count}\")\n",
    "#"
   ]
  },
  {
   "cell_type": "code",
   "execution_count": 13,
   "metadata": {},
   "outputs": [
    {
     "name": "stdout",
     "output_type": "stream",
     "text": [
      "Pakistan Zindabad\n",
      "Number of uppercase letters: 2\n",
      "Number of lowercase letters: 14\n",
      "Number of digits: 0\n",
      "Number of whitespace characters: 1\n"
     ]
    }
   ],
   "source": [
    "# 2. Write a program that reads a string from keyboard and display: \n",
    "# * The number of uppercase letters in the string \n",
    "# * The number of lowercase letters in the string \n",
    "# * The number of digits in the string \n",
    "# * The number of whitespace characters in the string \n",
    "\n",
    "# String = (\"PakisTAAN zindabad 123459860\")\n",
    "\n",
    "# print(len(upper(String)))\n",
    "\n",
    "\n",
    "def count_chars(string):\n",
    "    uppercase_count = sum(1 for char in string if char.isupper())  # Count uppercase letters\n",
    "    lowercase_count = sum(1 for char in string if char.islower())  # Count lowercase letters\n",
    "    digit_count = sum(1 for char in string if char.isdigit())      # Count digits\n",
    "    whitespace_count = sum(1 for char in string if char.isspace()) # Count whitespace\n",
    "\n",
    "    return uppercase_count, lowercase_count, digit_count, whitespace_count\n",
    "\n",
    "# Accept input from user\n",
    "user_input = input(\"Enter a string: \")\n",
    "\n",
    "# Count and display the results\n",
    "uppercase, lowercase, digits, whitespace = count_chars(user_input)\n",
    "print(user_input)\n",
    "print(f\"Number of uppercase letters: {uppercase}\")\n",
    "print(f\"Number of lowercase letters: {lowercase}\")\n",
    "print(f\"Number of digits: {digits}\")\n",
    "print(f\"Number of whitespace characters: {whitespace}\")\n"
   ]
  },
  {
   "cell_type": "code",
   "execution_count": null,
   "metadata": {},
   "outputs": [],
   "source": []
  }
 ],
 "metadata": {
  "kernelspec": {
   "display_name": "Python 3",
   "language": "python",
   "name": "python3"
  },
  "language_info": {
   "codemirror_mode": {
    "name": "ipython",
    "version": 3
   },
   "file_extension": ".py",
   "mimetype": "text/x-python",
   "name": "python",
   "nbconvert_exporter": "python",
   "pygments_lexer": "ipython3",
   "version": "3.12.9"
  }
 },
 "nbformat": 4,
 "nbformat_minor": 2
}
